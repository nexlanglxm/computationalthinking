{
 "cells": [
  {
   "cell_type": "markdown",
   "metadata": {},
   "source": [
    "# Homework Roughwork"
   ]
  },
  {
   "cell_type": "markdown",
   "metadata": {},
   "source": [
    "## Week 3"
   ]
  },
  {
   "cell_type": "markdown",
   "metadata": {},
   "source": [
    "1. largest element in an array"
   ]
  },
  {
   "cell_type": "code",
   "execution_count": 1,
   "metadata": {},
   "outputs": [
    {
     "name": "stdout",
     "output_type": "stream",
     "text": [
      "The largest dog breed is: Labradoodle\n",
      "The bird with the most characters is: Hummingbird\n"
     ]
    }
   ],
   "source": [
    "def find_largest_element(arr):\n",
    "    return max(arr, key=len)\n",
    "\n",
    "# Example array with types of dogs\n",
    "dogs = ['Labrador', 'Labradoodle', 'Bulldog', 'Husky']\n",
    "\n",
    "# Example array with types of birds\n",
    "birds = ['Eagle', 'Sparrow', 'Ostrich', 'Hummingbird']\n",
    "\n",
    "largest_dog = find_largest_element(dogs)\n",
    "print(f'The largest dog breed is: {largest_dog}')\n",
    "\n",
    "longest_bird = find_largest_element(birds)\n",
    "print(f'The bird with the most characters is: {longest_bird}')\n"
   ]
  },
  {
   "cell_type": "code",
   "execution_count": 10,
   "metadata": {},
   "outputs": [
    {
     "name": "stdout",
     "output_type": "stream",
     "text": [
      "46\n"
     ]
    }
   ],
   "source": [
    "def largest(input):\n",
    "    largest = input[0]\n",
    "    for i in input:\n",
    "        if i>largest:\n",
    "            largest = i\n",
    "            \n",
    "    return largest\n",
    "\n",
    "print(largest([1, 2, 46, 19]))"
   ]
  },
  {
   "cell_type": "markdown",
   "metadata": {},
   "source": [
    "2. returns an array w reverse of the input"
   ]
  },
  {
   "cell_type": "code",
   "execution_count": 11,
   "metadata": {},
   "outputs": [
    {
     "name": "stdout",
     "output_type": "stream",
     "text": [
      "maam\n",
      "The reverse of maam: maam is a palindrome\n"
     ]
    }
   ],
   "source": [
    "array = 'maam'\n",
    "reversed_array = array[::-1]\n",
    "print(array)\n",
    "\n",
    "# Check if the input string is a palindrome\n",
    "def is_palindrome(s):\n",
    "    return s == s[::-1]\n",
    "\n",
    "if is_palindrome(reversed_array):\n",
    "    print(f'The reverse of {array}: {reversed_array} is a palindrome')\n",
    "else:\n",
    "    print(f'The reverse of {array}: {reversed_array} is not a palindrome')"
   ]
  },
  {
   "cell_type": "markdown",
   "metadata": {},
   "source": [
    "3. Write an algorithm that checks whether an element occurs in an array."
   ]
  },
  {
   "cell_type": "code",
   "execution_count": 12,
   "metadata": {},
   "outputs": [
    {
     "name": "stdout",
     "output_type": "stream",
     "text": [
      "Pork is not in the array\n"
     ]
    }
   ],
   "source": [
    "# Check if a specific element is present in the array\n",
    "def check_element_in_array(arr, element):\n",
    "    return element in arr\n",
    "\n",
    "# Example array with types of cats\n",
    "cats = ['Siamese', 'Persian', 'Maine Coon', 'Sphynx']\n",
    "\n",
    "element_to_check = 'Pork'\n",
    "if check_element_in_array(cats, element_to_check):\n",
    "    print(f'{element_to_check} is in the array')\n",
    "else:\n",
    "    print(f'{element_to_check} is not in the array')\n"
   ]
  },
  {
   "cell_type": "markdown",
   "metadata": {},
   "source": [
    "4. Write an algorithm that returns the elements on odd positions in an array."
   ]
  },
  {
   "cell_type": "code",
   "execution_count": 13,
   "metadata": {},
   "outputs": [
    {
     "name": "stdout",
     "output_type": "stream",
     "text": [
      "Elements on odd positions in the array: ['Persian', 'Sphynx']\n"
     ]
    }
   ],
   "source": [
    "# Return elements on odd positions in an array\n",
    "def odd_positions_elements(arr):\n",
    "    return arr[1::2]\n",
    "\n",
    "# Use the function to return elements on odd positions in an array\n",
    "odd_elements = odd_positions_elements(cats)\n",
    "print(f'Elements on odd positions in the array: {odd_elements}')\n"
   ]
  },
  {
   "cell_type": "markdown",
   "metadata": {},
   "source": [
    "5. Write an algorithm that computes the running total of an array of numbers."
   ]
  },
  {
   "cell_type": "code",
   "execution_count": null,
   "metadata": {},
   "outputs": [],
   "source": []
  },
  {
   "cell_type": "markdown",
   "metadata": {},
   "source": [
    "6. Write an algorithm that prints a multiplication table for numbers up to 12."
   ]
  },
  {
   "cell_type": "code",
   "execution_count": 14,
   "metadata": {},
   "outputs": [
    {
     "name": "stdout",
     "output_type": "stream",
     "text": [
      "1 x 12 = 12\n",
      "2 x 12 = 24\n",
      "3 x 12 = 36\n",
      "4 x 12 = 48\n",
      "5 x 12 = 60\n",
      "6 x 12 = 72\n",
      "7 x 12 = 84\n",
      "8 x 12 = 96\n",
      "9 x 12 = 108\n",
      "10 x 12 = 120\n",
      "11 x 12 = 132\n",
      "12 x 12 = 144\n"
     ]
    }
   ],
   "source": [
    "# Generate a multiplication table for numbers up to 12\n",
    "for i in range(1, 13):\n",
    "    print(f'{i} x 12 = {i*12}')\n"
   ]
  },
  {
   "cell_type": "markdown",
   "metadata": {},
   "source": [
    "7. Write an algorithm that prints the first 100 prime numbers."
   ]
  },
  {
   "cell_type": "code",
   "execution_count": 15,
   "metadata": {},
   "outputs": [
    {
     "name": "stdout",
     "output_type": "stream",
     "text": [
      "2\n",
      "3\n",
      "5\n",
      "7\n",
      "11\n",
      "13\n",
      "17\n",
      "19\n",
      "23\n",
      "29\n",
      "31\n",
      "37\n",
      "41\n",
      "43\n",
      "47\n",
      "53\n",
      "59\n",
      "61\n",
      "67\n",
      "71\n",
      "73\n",
      "79\n",
      "83\n",
      "89\n",
      "97\n",
      "101\n",
      "103\n",
      "107\n",
      "109\n",
      "113\n",
      "127\n",
      "131\n",
      "137\n",
      "139\n",
      "149\n",
      "151\n",
      "157\n",
      "163\n",
      "167\n",
      "173\n",
      "179\n",
      "181\n",
      "191\n",
      "193\n",
      "197\n",
      "199\n",
      "211\n",
      "223\n",
      "227\n",
      "229\n",
      "233\n",
      "239\n",
      "241\n",
      "251\n",
      "257\n",
      "263\n",
      "269\n",
      "271\n",
      "277\n",
      "281\n",
      "283\n",
      "293\n",
      "307\n",
      "311\n",
      "313\n",
      "317\n",
      "331\n",
      "337\n",
      "347\n",
      "349\n",
      "353\n",
      "359\n",
      "367\n",
      "373\n",
      "379\n",
      "383\n",
      "389\n",
      "397\n",
      "401\n",
      "409\n",
      "419\n",
      "421\n",
      "431\n",
      "433\n",
      "439\n",
      "443\n",
      "449\n",
      "457\n",
      "461\n",
      "463\n",
      "467\n",
      "479\n",
      "487\n",
      "491\n",
      "499\n",
      "503\n",
      "509\n",
      "521\n",
      "523\n",
      "541\n"
     ]
    }
   ],
   "source": [
    "# Generate the first 100 prime numbers\n",
    "def is_prime(num):\n",
    "    if num < 2:\n",
    "        return False\n",
    "    for i in range(2, int(num ** 0.5) + 1):\n",
    "        if num % i == 0:\n",
    "            return False\n",
    "    return True\n",
    "\n",
    "def generate_prime_numbers(count):\n",
    "    primes = []\n",
    "    num = 2\n",
    "    while len(primes) < count:\n",
    "        if is_prime(num):\n",
    "            primes.append(num)\n",
    "        num += 1\n",
    "    return primes\n",
    "\n",
    "# Print the first 100 prime numbers\n",
    "primes = generate_prime_numbers(100)\n",
    "for prime in primes:\n",
    "    print(prime)\n"
   ]
  },
  {
   "cell_type": "markdown",
   "metadata": {},
   "source": [
    "8. Write an algorithm that prints the numbers from 1 to 100 and for multiples of ’3’ print\n",
    "“Fizz” instead of the number and for the multiples of ’5’ print “Buzz”."
   ]
  },
  {
   "cell_type": "code",
   "execution_count": 16,
   "metadata": {},
   "outputs": [
    {
     "name": "stdout",
     "output_type": "stream",
     "text": [
      "1\n",
      "2\n",
      "Fizz\n",
      "4\n",
      "Buzz\n",
      "Fizz\n",
      "7\n",
      "8\n",
      "Fizz\n",
      "Buzz\n",
      "11\n",
      "Fizz\n",
      "13\n",
      "14\n",
      "FizzBuzz\n",
      "16\n",
      "17\n",
      "Fizz\n",
      "19\n",
      "Buzz\n",
      "Fizz\n",
      "22\n",
      "23\n",
      "Fizz\n",
      "Buzz\n",
      "26\n",
      "Fizz\n",
      "28\n",
      "29\n",
      "FizzBuzz\n",
      "31\n",
      "32\n",
      "Fizz\n",
      "34\n",
      "Buzz\n",
      "Fizz\n",
      "37\n",
      "38\n",
      "Fizz\n",
      "Buzz\n",
      "41\n",
      "Fizz\n",
      "43\n",
      "44\n",
      "FizzBuzz\n",
      "46\n",
      "47\n",
      "Fizz\n",
      "49\n",
      "Buzz\n",
      "Fizz\n",
      "52\n",
      "53\n",
      "Fizz\n",
      "Buzz\n",
      "56\n",
      "Fizz\n",
      "58\n",
      "59\n",
      "FizzBuzz\n",
      "61\n",
      "62\n",
      "Fizz\n",
      "64\n",
      "Buzz\n",
      "Fizz\n",
      "67\n",
      "68\n",
      "Fizz\n",
      "Buzz\n",
      "71\n",
      "Fizz\n",
      "73\n",
      "74\n",
      "FizzBuzz\n",
      "76\n",
      "77\n",
      "Fizz\n",
      "79\n",
      "Buzz\n",
      "Fizz\n",
      "82\n",
      "83\n",
      "Fizz\n",
      "Buzz\n",
      "86\n",
      "Fizz\n",
      "88\n",
      "89\n",
      "FizzBuzz\n",
      "91\n",
      "92\n",
      "Fizz\n",
      "94\n",
      "Buzz\n",
      "Fizz\n",
      "97\n",
      "98\n",
      "Fizz\n",
      "Buzz\n"
     ]
    }
   ],
   "source": [
    "# Generate FizzBuzz for numbers from 1 to 100\n",
    "for i in range(1, 101):\n",
    "    if i % 3 == 0 and i % 5 == 0:\n",
    "        print('FizzBuzz')\n",
    "    elif i % 3 == 0:\n",
    "        print('Fizz')\n",
    "    elif i % 5 == 0:\n",
    "        print('Buzz')\n",
    "    else:\n",
    "        print(i)\n"
   ]
  },
  {
   "cell_type": "markdown",
   "metadata": {},
   "source": [
    "## Week 4"
   ]
  },
  {
   "cell_type": "markdown",
   "metadata": {},
   "source": [
    "Caeser Cipher"
   ]
  },
  {
   "cell_type": "code",
   "execution_count": 17,
   "metadata": {},
   "outputs": [
    {
     "name": "stdout",
     "output_type": "stream",
     "text": [
      "Tcxlsr mw kssh jsv qi\n"
     ]
    }
   ],
   "source": [
    "def encrypt(plaintext, offset):\n",
    "    cipher_text = ''\n",
    "    \n",
    "    for i in plaintext:\n",
    "        numerical_value = ord(i)\n",
    "        if (i.isupper()):\n",
    "            adjusted = ((numerical_value + offset - 65)% 26) + 65\n",
    "            cipher_text += chr(adjusted)\n",
    "        elif numerical_value == 32:\n",
    "            cipher_text += i \n",
    "        else:\n",
    "            adjusted = ((numerical_value + offset - 97)% 26) + 97\n",
    "            cipher_text += chr(adjusted)\n",
    "            \n",
    "    return cipher_text\n",
    "\n",
    "print(encrypt('Python is good for me', 4))"
   ]
  },
  {
   "cell_type": "markdown",
   "metadata": {},
   "source": [
    "## Week 5"
   ]
  },
  {
   "cell_type": "markdown",
   "metadata": {},
   "source": []
  },
  {
   "cell_type": "markdown",
   "metadata": {},
   "source": []
  },
  {
   "cell_type": "markdown",
   "metadata": {},
   "source": [
    "## Week 6"
   ]
  },
  {
   "cell_type": "markdown",
   "metadata": {},
   "source": [
    "### Part 1"
   ]
  },
  {
   "cell_type": "code",
   "execution_count": 1,
   "metadata": {},
   "outputs": [
    {
     "name": "stdout",
     "output_type": "stream",
     "text": [
      "[1001]\n"
     ]
    }
   ],
   "source": [
    "def filter(listofNumbers):\n",
    "    greaterThan1000 = []\n",
    "    \n",
    "    for element in listofNumbers:\n",
    "        if element > 1000:\n",
    "            greaterThan1000.append(element)\n",
    "            \n",
    "    return greaterThan1000\n",
    "\n",
    "testArr = [1, 2, 500, 1001]\n",
    "\n",
    "print(filter(testArr))"
   ]
  },
  {
   "cell_type": "markdown",
   "metadata": {},
   "source": [
    "### Part 2"
   ]
  },
  {
   "cell_type": "code",
   "execution_count": 6,
   "metadata": {},
   "outputs": [
    {
     "name": "stdout",
     "output_type": "stream",
     "text": [
      "neil anglim\n"
     ]
    }
   ],
   "source": [
    "def merge(str1, str2):\n",
    "    combinedstr = ''\n",
    "    \n",
    "    for i in range(min(len(str1), len(str2))):\n",
    "        combinedstr += str1[i] + str2[i]\n",
    "    \n",
    "    if len(str1) > len(str2):\n",
    "        combinedstr += str1[len(str2):]\n",
    "    elif len(str2) > len(str1):\n",
    "        combinedstr += str2[len(str1):]\n",
    "    \n",
    "    return combinedstr\n",
    "\n",
    "print(merge('ni','el'), merge('agi', 'nlm'))"
   ]
  },
  {
   "cell_type": "markdown",
   "metadata": {},
   "source": [
    "### Part 3"
   ]
  },
  {
   "cell_type": "code",
   "execution_count": 7,
   "metadata": {},
   "outputs": [
    {
     "name": "stdout",
     "output_type": "stream",
     "text": [
      "True\n",
      "False\n"
     ]
    }
   ],
   "source": [
    "def double_x(string):\n",
    "    # This function checks if there are consecutive 'x' characters in the input string.\n",
    "    for i in range(len(string) - 1):\n",
    "        if string[i] == 'x' and string[i+1] == 'x':\n",
    "            return True\n",
    "    return False\n",
    "\n",
    "print(double_x('axxbb'))  # True\n",
    "print(double_x('axbxb'))  # False\n"
   ]
  },
  {
   "cell_type": "markdown",
   "metadata": {},
   "source": [
    "### part 4"
   ]
  },
  {
   "cell_type": "code",
   "execution_count": null,
   "metadata": {},
   "outputs": [],
   "source": []
  }
 ],
 "metadata": {
  "kernelspec": {
   "display_name": "Python 3",
   "language": "python",
   "name": "python3"
  },
  "language_info": {
   "codemirror_mode": {
    "name": "ipython",
    "version": 3
   },
   "file_extension": ".py",
   "mimetype": "text/x-python",
   "name": "python",
   "nbconvert_exporter": "python",
   "pygments_lexer": "ipython3",
   "version": "3.11.5"
  }
 },
 "nbformat": 4,
 "nbformat_minor": 2
}
