{
 "cells": [
  {
   "cell_type": "markdown",
   "metadata": {},
   "source": [
    "# Homework Roughwork"
   ]
  },
  {
   "cell_type": "markdown",
   "metadata": {},
   "source": [
    "## Week 3"
   ]
  },
  {
   "cell_type": "markdown",
   "metadata": {},
   "source": [
    "1. largest element in an array"
   ]
  },
  {
   "cell_type": "code",
   "execution_count": 1,
   "metadata": {},
   "outputs": [
    {
     "name": "stdout",
     "output_type": "stream",
     "text": [
      "The largest dog breed is: Labradoodle\n",
      "The bird with the most characters is: Hummingbird\n"
     ]
    }
   ],
   "source": [
    "def find_largest_element(arr):\n",
    "    return max(arr, key=len)\n",
    "\n",
    "# Example array with types of dogs\n",
    "dogs = ['Labrador', 'Labradoodle', 'Bulldog', 'Husky']\n",
    "\n",
    "# Example array with types of birds\n",
    "birds = ['Eagle', 'Sparrow', 'Ostrich', 'Hummingbird']\n",
    "\n",
    "largest_dog = find_largest_element(dogs)\n",
    "print(f'The largest dog breed is: {largest_dog}')\n",
    "\n",
    "longest_bird = find_largest_element(birds)\n",
    "print(f'The bird with the most characters is: {longest_bird}')\n"
   ]
  },
  {
   "cell_type": "code",
   "execution_count": 2,
   "metadata": {},
   "outputs": [
    {
     "name": "stdout",
     "output_type": "stream",
     "text": [
      "46\n"
     ]
    }
   ],
   "source": [
    "def largest(input):\n",
    "    largest = input[0]\n",
    "    for i in input:\n",
    "        if i>largest:\n",
    "            largest = i\n",
    "            \n",
    "    return largest\n",
    "\n",
    "print(largest([1, 2, 46, 19]))"
   ]
  },
  {
   "cell_type": "markdown",
   "metadata": {},
   "source": [
    "2. returns an array w reverse of the input"
   ]
  },
  {
   "cell_type": "code",
   "execution_count": 3,
   "metadata": {},
   "outputs": [
    {
     "name": "stdout",
     "output_type": "stream",
     "text": [
      "maam\n",
      "The reverse of maam: maam is a palindrome\n"
     ]
    }
   ],
   "source": [
    "array = 'maam'\n",
    "reversed_array = array[::-1]\n",
    "print(array)\n",
    "\n",
    "# Check if the input string is a palindrome\n",
    "def is_palindrome(s):\n",
    "    return s == s[::-1]\n",
    "\n",
    "if is_palindrome(reversed_array):\n",
    "    print(f'The reverse of {array}: {reversed_array} is a palindrome')\n",
    "else:\n",
    "    print(f'The reverse of {array}: {reversed_array} is not a palindrome')"
   ]
  },
  {
   "cell_type": "markdown",
   "metadata": {},
   "source": [
    "3. Write an algorithm that checks whether an element occurs in an array."
   ]
  },
  {
   "cell_type": "code",
   "execution_count": 4,
   "metadata": {},
   "outputs": [
    {
     "name": "stdout",
     "output_type": "stream",
     "text": [
      "Pork is not in the array\n"
     ]
    }
   ],
   "source": [
    "# Check if a specific element is present in the array\n",
    "def check_element_in_array(arr, element):\n",
    "    return element in arr\n",
    "\n",
    "# Example array with types of cats\n",
    "cats = ['Siamese', 'Persian', 'Maine Coon', 'Sphynx']\n",
    "\n",
    "element_to_check = 'Pork'\n",
    "if check_element_in_array(cats, element_to_check):\n",
    "    print(f'{element_to_check} is in the array')\n",
    "else:\n",
    "    print(f'{element_to_check} is not in the array')\n"
   ]
  },
  {
   "cell_type": "markdown",
   "metadata": {},
   "source": [
    "4. Write an algorithm that returns the elements on odd positions in an array."
   ]
  },
  {
   "cell_type": "code",
   "execution_count": 5,
   "metadata": {},
   "outputs": [
    {
     "name": "stdout",
     "output_type": "stream",
     "text": [
      "Elements on odd positions in the array: ['Persian', 'Sphynx']\n"
     ]
    }
   ],
   "source": [
    "# Return elements on odd positions in an array\n",
    "def odd_positions_elements(arr):\n",
    "    return arr[1::2]\n",
    "\n",
    "# Use the function to return elements on odd positions in an array\n",
    "odd_elements = odd_positions_elements(cats)\n",
    "print(f'Elements on odd positions in the array: {odd_elements}')\n"
   ]
  },
  {
   "cell_type": "markdown",
   "metadata": {},
   "source": [
    "5. Write an algorithm that computes the running total of an array of numbers."
   ]
  },
  {
   "cell_type": "code",
   "execution_count": null,
   "metadata": {},
   "outputs": [],
   "source": []
  },
  {
   "cell_type": "markdown",
   "metadata": {},
   "source": [
    "6. Write an algorithm that prints a multiplication table for numbers up to 12."
   ]
  },
  {
   "cell_type": "code",
   "execution_count": 6,
   "metadata": {},
   "outputs": [
    {
     "name": "stdout",
     "output_type": "stream",
     "text": [
      "1 x 12 = 12\n",
      "2 x 12 = 24\n",
      "3 x 12 = 36\n",
      "4 x 12 = 48\n",
      "5 x 12 = 60\n",
      "6 x 12 = 72\n",
      "7 x 12 = 84\n",
      "8 x 12 = 96\n",
      "9 x 12 = 108\n",
      "10 x 12 = 120\n",
      "11 x 12 = 132\n",
      "12 x 12 = 144\n"
     ]
    }
   ],
   "source": [
    "# Generate a multiplication table for numbers up to 12\n",
    "for i in range(1, 13):\n",
    "    print(f'{i} x 12 = {i*12}')\n"
   ]
  },
  {
   "cell_type": "markdown",
   "metadata": {},
   "source": [
    "7. Write an algorithm that prints the first 100 prime numbers."
   ]
  },
  {
   "cell_type": "code",
   "execution_count": 7,
   "metadata": {},
   "outputs": [
    {
     "name": "stdout",
     "output_type": "stream",
     "text": [
      "2\n",
      "3\n",
      "5\n",
      "7\n",
      "11\n",
      "13\n",
      "17\n",
      "19\n",
      "23\n",
      "29\n",
      "31\n",
      "37\n",
      "41\n",
      "43\n",
      "47\n",
      "53\n",
      "59\n",
      "61\n",
      "67\n",
      "71\n",
      "73\n",
      "79\n",
      "83\n",
      "89\n",
      "97\n",
      "101\n",
      "103\n",
      "107\n",
      "109\n",
      "113\n",
      "127\n",
      "131\n",
      "137\n",
      "139\n",
      "149\n",
      "151\n",
      "157\n",
      "163\n",
      "167\n",
      "173\n",
      "179\n",
      "181\n",
      "191\n",
      "193\n",
      "197\n",
      "199\n",
      "211\n",
      "223\n",
      "227\n",
      "229\n",
      "233\n",
      "239\n",
      "241\n",
      "251\n",
      "257\n",
      "263\n",
      "269\n",
      "271\n",
      "277\n",
      "281\n",
      "283\n",
      "293\n",
      "307\n",
      "311\n",
      "313\n",
      "317\n",
      "331\n",
      "337\n",
      "347\n",
      "349\n",
      "353\n",
      "359\n",
      "367\n",
      "373\n",
      "379\n",
      "383\n",
      "389\n",
      "397\n",
      "401\n",
      "409\n",
      "419\n",
      "421\n",
      "431\n",
      "433\n",
      "439\n",
      "443\n",
      "449\n",
      "457\n",
      "461\n",
      "463\n",
      "467\n",
      "479\n",
      "487\n",
      "491\n",
      "499\n",
      "503\n",
      "509\n",
      "521\n",
      "523\n",
      "541\n"
     ]
    }
   ],
   "source": [
    "# Generate the first 100 prime numbers\n",
    "def is_prime(num):\n",
    "    if num < 2:\n",
    "        return False\n",
    "    for i in range(2, int(num ** 0.5) + 1):\n",
    "        if num % i == 0:\n",
    "            return False\n",
    "    return True\n",
    "\n",
    "def generate_prime_numbers(count):\n",
    "    primes = []\n",
    "    num = 2\n",
    "    while len(primes) < count:\n",
    "        if is_prime(num):\n",
    "            primes.append(num)\n",
    "        num += 1\n",
    "    return primes\n",
    "\n",
    "# Print the first 100 prime numbers\n",
    "primes = generate_prime_numbers(100)\n",
    "for prime in primes:\n",
    "    print(prime)\n"
   ]
  },
  {
   "cell_type": "markdown",
   "metadata": {},
   "source": [
    "8. Write an algorithm that prints the numbers from 1 to 100 and for multiples of ’3’ print\n",
    "“Fizz” instead of the number and for the multiples of ’5’ print “Buzz”."
   ]
  },
  {
   "cell_type": "code",
   "execution_count": 8,
   "metadata": {},
   "outputs": [
    {
     "name": "stdout",
     "output_type": "stream",
     "text": [
      "1\n",
      "2\n",
      "Fizz\n",
      "4\n",
      "Buzz\n",
      "Fizz\n",
      "7\n",
      "8\n",
      "Fizz\n",
      "Buzz\n",
      "11\n",
      "Fizz\n",
      "13\n",
      "14\n",
      "FizzBuzz\n",
      "16\n",
      "17\n",
      "Fizz\n",
      "19\n",
      "Buzz\n",
      "Fizz\n",
      "22\n",
      "23\n",
      "Fizz\n",
      "Buzz\n",
      "26\n",
      "Fizz\n",
      "28\n",
      "29\n",
      "FizzBuzz\n",
      "31\n",
      "32\n",
      "Fizz\n",
      "34\n",
      "Buzz\n",
      "Fizz\n",
      "37\n",
      "38\n",
      "Fizz\n",
      "Buzz\n",
      "41\n",
      "Fizz\n",
      "43\n",
      "44\n",
      "FizzBuzz\n",
      "46\n",
      "47\n",
      "Fizz\n",
      "49\n",
      "Buzz\n",
      "Fizz\n",
      "52\n",
      "53\n",
      "Fizz\n",
      "Buzz\n",
      "56\n",
      "Fizz\n",
      "58\n",
      "59\n",
      "FizzBuzz\n",
      "61\n",
      "62\n",
      "Fizz\n",
      "64\n",
      "Buzz\n",
      "Fizz\n",
      "67\n",
      "68\n",
      "Fizz\n",
      "Buzz\n",
      "71\n",
      "Fizz\n",
      "73\n",
      "74\n",
      "FizzBuzz\n",
      "76\n",
      "77\n",
      "Fizz\n",
      "79\n",
      "Buzz\n",
      "Fizz\n",
      "82\n",
      "83\n",
      "Fizz\n",
      "Buzz\n",
      "86\n",
      "Fizz\n",
      "88\n",
      "89\n",
      "FizzBuzz\n",
      "91\n",
      "92\n",
      "Fizz\n",
      "94\n",
      "Buzz\n",
      "Fizz\n",
      "97\n",
      "98\n",
      "Fizz\n",
      "Buzz\n"
     ]
    }
   ],
   "source": [
    "# Generate FizzBuzz for numbers from 1 to 100\n",
    "for i in range(1, 101):\n",
    "    if i % 3 == 0 and i % 5 == 0:\n",
    "        print('FizzBuzz')\n",
    "    elif i % 3 == 0:\n",
    "        print('Fizz')\n",
    "    elif i % 5 == 0:\n",
    "        print('Buzz')\n",
    "    else:\n",
    "        print(i)\n"
   ]
  },
  {
   "cell_type": "markdown",
   "metadata": {},
   "source": [
    "## Week 4"
   ]
  },
  {
   "cell_type": "markdown",
   "metadata": {},
   "source": [
    "Caeser Cipher"
   ]
  },
  {
   "cell_type": "code",
   "execution_count": 9,
   "metadata": {},
   "outputs": [
    {
     "name": "stdout",
     "output_type": "stream",
     "text": [
      "Tcxlsr mw kssh jsv qi\n"
     ]
    }
   ],
   "source": [
    "def encrypt(plaintext, offset):\n",
    "    cipher_text = ''\n",
    "    \n",
    "    for i in plaintext:\n",
    "        numerical_value = ord(i)\n",
    "        if (i.isupper()):\n",
    "            adjusted = ((numerical_value + offset - 65)% 26) + 65\n",
    "            cipher_text += chr(adjusted)\n",
    "        elif numerical_value == 32:\n",
    "            cipher_text += i \n",
    "        else:\n",
    "            adjusted = ((numerical_value + offset - 97)% 26) + 97\n",
    "            cipher_text += chr(adjusted)\n",
    "            \n",
    "    return cipher_text\n",
    "\n",
    "print(encrypt('Python is good for me', 4))"
   ]
  },
  {
   "cell_type": "markdown",
   "metadata": {},
   "source": [
    "## Week 5"
   ]
  },
  {
   "cell_type": "markdown",
   "metadata": {},
   "source": []
  },
  {
   "cell_type": "markdown",
   "metadata": {},
   "source": []
  },
  {
   "cell_type": "markdown",
   "metadata": {},
   "source": [
    "## Week 6"
   ]
  },
  {
   "cell_type": "markdown",
   "metadata": {},
   "source": [
    "### Part 1\n",
    "Given a list of numbers return a new list with only the elements of the first list that have a value > 1000"
   ]
  },
  {
   "cell_type": "code",
   "execution_count": 10,
   "metadata": {},
   "outputs": [
    {
     "name": "stdout",
     "output_type": "stream",
     "text": [
      "[1001]\n"
     ]
    }
   ],
   "source": [
    "def filter(listofNumbers):\n",
    "    greaterThan1000 = []\n",
    "    \n",
    "    for element in listofNumbers:\n",
    "        if element > 1000:\n",
    "            greaterThan1000.append(element)\n",
    "            \n",
    "    return greaterThan1000\n",
    "\n",
    "testArr = [1, 2, 500, 1001]\n",
    "\n",
    "print(filter(testArr))"
   ]
  },
  {
   "cell_type": "markdown",
   "metadata": {},
   "source": [
    "### Part 2\n",
    "Write a method which produces a new string which is the merge of both strings. For example the strings\n",
    "“dmnc” and “oii” would merge to become “dominic”. The basic step is to combine the current character from\n",
    "the first and second strings together in that order, so first that would be ’d’ and ’o’, then ’m’ and ’i’.\n",
    "The second string will always be shorter and when we are finished with it the remainder of the first string\n",
    "will be the last part of our new string."
   ]
  },
  {
   "cell_type": "code",
   "execution_count": 11,
   "metadata": {},
   "outputs": [
    {
     "name": "stdout",
     "output_type": "stream",
     "text": [
      "neil anglim\n"
     ]
    }
   ],
   "source": [
    "def merge(str1, str2):\n",
    "    combinedstr = ''\n",
    "    \n",
    "    for i in range(min(len(str1), len(str2))):\n",
    "        combinedstr += str1[i] + str2[i]\n",
    "    \n",
    "    if len(str1) > len(str2):\n",
    "        combinedstr += str1[len(str2):]\n",
    "    elif len(str2) > len(str1):\n",
    "        combinedstr += str2[len(str1):]\n",
    "    \n",
    "    return combinedstr\n",
    "\n",
    "print(merge('ni','el'), merge('agi', 'nlm'))"
   ]
  },
  {
   "cell_type": "markdown",
   "metadata": {},
   "source": [
    "### Part 3\n",
    "Given a string return true if the first instance of ’x’ in the string is followed by another x."
   ]
  },
  {
   "cell_type": "code",
   "execution_count": 12,
   "metadata": {},
   "outputs": [
    {
     "name": "stdout",
     "output_type": "stream",
     "text": [
      "True\n",
      "False\n"
     ]
    }
   ],
   "source": [
    "def double_x(string):\n",
    "    # This function checks if there are consecutive 'x' characters in the input string.\n",
    "    for i in range(len(string) - 1):\n",
    "        if string[i] == 'x' and string[i+1] == 'x':\n",
    "            return True\n",
    "    return False\n",
    "\n",
    "print(double_x('axxbb'))  # True\n",
    "print(double_x('axbxb'))  # False\n"
   ]
  },
  {
   "cell_type": "markdown",
   "metadata": {},
   "source": [
    "### Part 4\n",
    "Given an array of ints of odd length, return a new array length 3 containing the elements from the middle of\n",
    "the array. The array length will be at least 3."
   ]
  },
  {
   "cell_type": "code",
   "execution_count": 13,
   "metadata": {},
   "outputs": [
    {
     "name": "stdout",
     "output_type": "stream",
     "text": [
      "[10, 11, 12]\n"
     ]
    }
   ],
   "source": [
    "def Odd(arr):\n",
    "    ret = []\n",
    "    mid = len(arr) //2\n",
    "    ret.append(arr[mid-1])\n",
    "    ret.append(arr[mid])\n",
    "    ret.append(arr[mid+1])\n",
    "    return ret\n",
    "\n",
    "arr = [1, 2, 3, 4, 5, 6, 7, 8, 9, 10, 11, 12, 13, 14, 15, 16, 17, 18, 19, 20]\n",
    "print(Odd(arr))"
   ]
  },
  {
   "cell_type": "markdown",
   "metadata": {},
   "source": [
    "### Part 5\n",
    "Given an array of ints length 3, figure out which is larger, the first or last element in the array, and set all the\n",
    "other elements to be that value. Return the changed array."
   ]
  },
  {
   "cell_type": "code",
   "execution_count": null,
   "metadata": {},
   "outputs": [],
   "source": []
  },
  {
   "cell_type": "markdown",
   "metadata": {},
   "source": [
    "### Part 6\n",
    "Given an int array length 2, return true if it contains a 2 or a 3."
   ]
  },
  {
   "cell_type": "code",
   "execution_count": 14,
   "metadata": {},
   "outputs": [
    {
     "name": "stdout",
     "output_type": "stream",
     "text": [
      "[1001]\n",
      "neil anglim\n",
      "True\n",
      "False\n",
      "[10, 11, 12]\n",
      "[3, 3, 3]\n",
      "True\n"
     ]
    }
   ],
   "source": [
    "def filter(listofNumbers):\n",
    "    greaterThan1000 = []\n",
    "    \n",
    "    for element in listofNumbers:\n",
    "        if element > 1000:\n",
    "            greaterThan1000.append(element)\n",
    "            \n",
    "    return greaterThan1000\n",
    "\n",
    "testArr = [1, 2, 500, 1001]\n",
    "\n",
    "print(filter(testArr))\n",
    "\n",
    "def merge(str1, str2):\n",
    "    combinedstr = ''\n",
    "    \n",
    "    for i in range(min(len(str1), len(str2))):\n",
    "        combinedstr += str1[i] + str2[i]\n",
    "    \n",
    "    if len(str1) > len(str2):\n",
    "        combinedstr += str1[len(str2):]\n",
    "    elif len(str2) > len(str1):\n",
    "        combinedstr += str2[len(str1):]\n",
    "    \n",
    "    return combinedstr\n",
    "\n",
    "print(merge('ni','el'), merge('agi', 'nlm'))\n",
    "\n",
    "def double_x(string):\n",
    "    for i in range(len(string)-1):\n",
    "        if string[i] == 'x' and string[i+1] == 'x':\n",
    "            return True\n",
    "    return False\n",
    "\n",
    "print(double_x('axxbb'))  # True\n",
    "print(double_x('axbxb'))  # False\n",
    "\n",
    "def Odd(arr):\n",
    "    ret = []\n",
    "    mid = len(arr) // 2\n",
    "    ret.append(arr[mid-1])\n",
    "    ret.append(arr[mid])\n",
    "    ret.append(arr[mid+1])\n",
    "    return ret\n",
    "\n",
    "arr = [1, 2, 3, 4, 5, 6, 7, 8, 9, 10, 11, 12, 13, 14, 15, 16, 17, 18, 19, 20]\n",
    "print(Odd(arr))\n",
    "\n",
    "def larger_first_last(arr):\n",
    "    if arr[0] > arr[2]:\n",
    "        arr[1] = arr[0]\n",
    "        arr[2] = arr[0]\n",
    "    else:\n",
    "        arr[0] = arr[2]\n",
    "        arr[1] = arr[2]\n",
    "    return arr\n",
    "\n",
    "arr = [3, 5, 2]\n",
    "print(larger_first_last(arr))\n",
    "\n",
    "def contains_2_or_3(arr):\n",
    "    if 2 in arr or 3 in arr:\n",
    "        return True\n",
    "    else:\n",
    "        return False\n",
    "\n",
    "arr = [1, 3]\n",
    "print(contains_2_or_3(arr))\n"
   ]
  },
  {
   "cell_type": "markdown",
   "metadata": {},
   "source": [
    "## Week 8"
   ]
  },
  {
   "cell_type": "markdown",
   "metadata": {},
   "source": [
    "1. returns the reverse of a given string."
   ]
  },
  {
   "cell_type": "code",
   "execution_count": 15,
   "metadata": {},
   "outputs": [
    {
     "name": "stdout",
     "output_type": "stream",
     "text": [
      "olleH\n"
     ]
    }
   ],
   "source": [
    "def reverse_string(input_string):\n",
    "    return input_string[::-1]\n",
    "\n",
    "print(reverse_string('Hello'))  # olleH\n"
   ]
  },
  {
   "cell_type": "code",
   "execution_count": 16,
   "metadata": {},
   "outputs": [
    {
     "name": "stdout",
     "output_type": "stream",
     "text": [
      "olleH\n"
     ]
    }
   ],
   "source": [
    "def reverse(str):\n",
    "    if str == \"\" or len(str) == 1:\n",
    "        return str\n",
    "    else:\n",
    "        return reverse(str[1:]) + str[0]\n",
    "\n",
    "print(reverse('Hello'))  # olleH\n",
    "\n"
   ]
  },
  {
   "cell_type": "markdown",
   "metadata": {},
   "source": [
    "2. reverses an array in-place (i.e changes what is stored at each index), assume the input\n",
    "array contains numbers."
   ]
  },
  {
   "cell_type": "code",
   "execution_count": 17,
   "metadata": {},
   "outputs": [
    {
     "name": "stdout",
     "output_type": "stream",
     "text": [
      "[5, 4, 3, 2, 1]\n"
     ]
    }
   ],
   "source": [
    "def reverse_array_in_place(arr):\n",
    "    left = 0\n",
    "    right = len(arr) - 1\n",
    "    while left < right:\n",
    "        arr[left], arr[right] = arr[right], arr[left]\n",
    "        left += 1\n",
    "        right -= 1\n",
    "\n",
    "arr = [1, 2, 3, 4, 5]\n",
    "reverse_array_in_place(arr)\n",
    "print(arr)\n"
   ]
  },
  {
   "cell_type": "markdown",
   "metadata": {},
   "source": [
    "3. checks whether an element occurs in an array, assume unsorted."
   ]
  },
  {
   "cell_type": "code",
   "execution_count": 18,
   "metadata": {},
   "outputs": [
    {
     "name": "stdout",
     "output_type": "stream",
     "text": [
      "True\n"
     ]
    }
   ],
   "source": [
    "def linear_search_recursion(arr, target, index):\n",
    "    if index >= len(arr):\n",
    "        return False\n",
    "    if arr[index] == target:\n",
    "        return True\n",
    "    return linear_search_recursion(arr, target, index + 1)\n",
    "\n",
    "print(linear_search_recursion([0,3,4,5,9,11], 9, 0))"
   ]
  },
  {
   "cell_type": "code",
   "execution_count": 19,
   "metadata": {},
   "outputs": [
    {
     "name": "stdout",
     "output_type": "stream",
     "text": [
      "True\n"
     ]
    }
   ],
   "source": [
    "def linear_search(arr, target, index):\n",
    "    if arr[index] == target:\n",
    "        return True\n",
    "    elif index == 0:\n",
    "        return False\n",
    "    else:\n",
    "        return linear_search(arr, target, index - 1)\n",
    "\n",
    "print(linear_search([1,2,3,4], 2, 3))\n"
   ]
  },
  {
   "cell_type": "markdown",
   "metadata": {},
   "source": [
    "4. computes the sum of an array of numbers."
   ]
  },
  {
   "cell_type": "code",
   "execution_count": 20,
   "metadata": {},
   "outputs": [],
   "source": [
    "def sum(nums):\n",
    "    return sum_r(nums, 0)\n",
    "\n",
    "def sum_r(nums, index):\n",
    "    if index == len(nums):\n",
    "        return 0\n",
    "    return nums[index] + sum_r(nums, index + 1)\n",
    "\n",
    "# This recursive function works by adding the current element at the given index to the sum of the rest of the elements in the array.\n",
    "# It continues this process until it reaches the end of the array, \n",
    "# at which point it returns 0 to stop the recursion and start summing up the elements.\n"
   ]
  },
  {
   "cell_type": "markdown",
   "metadata": {},
   "source": [
    "5. calculates the n\n",
    "th number in the Fibonacci sequence. Assume the sequence begins\n",
    "0,1,1,2...."
   ]
  },
  {
   "cell_type": "markdown",
   "metadata": {},
   "source": [
    "6. checks whether a string is a palindrome (a palindrome is a string that’s the same when\n",
    "reads forwards and backwards.)"
   ]
  },
  {
   "cell_type": "code",
   "execution_count": 21,
   "metadata": {},
   "outputs": [
    {
     "name": "stdout",
     "output_type": "stream",
     "text": [
      "True\n"
     ]
    }
   ],
   "source": [
    "# This function checks if a given string is a palindrome by recursively \n",
    "# comparing characters from the start and end of the string.\n",
    "def isPalindrome(str):\n",
    "    length = len(str)\n",
    "    if length <= 1:\n",
    "        return True\n",
    "    \n",
    "    return str[0] == str[length-1] and isPalindrome(str[1:length-1])\n",
    "\n",
    "print(isPalindrome('racecar'))\n"
   ]
  },
  {
   "cell_type": "code",
   "execution_count": 22,
   "metadata": {},
   "outputs": [
    {
     "name": "stdout",
     "output_type": "stream",
     "text": [
      "True\n"
     ]
    }
   ],
   "source": [
    "# This code checks whether a given string is a palindrome by comparing characters \n",
    "# from the start and end of the string recursively.\n",
    "def is_palindrome(str):\n",
    "    if len(str) < 2:\n",
    "        return True\n",
    "    else:\n",
    "        return str[0] == str[-1] and is_palindrome(str[1:-1])\n",
    "\n",
    "print(is_palindrome('racecar'))\n"
   ]
  },
  {
   "cell_type": "markdown",
   "metadata": {},
   "source": [
    "7. given a number and a power, will compute the result of the number raised to that\n",
    "power. For example 23 = 8."
   ]
  },
  {
   "cell_type": "markdown",
   "metadata": {},
   "source": [
    "8. given a string and a substring will compute how many times the substring appears in\n",
    "the string. For example “he” appears twice in the string “her and herself”."
   ]
  },
  {
   "cell_type": "code",
   "execution_count": 23,
   "metadata": {},
   "outputs": [
    {
     "name": "stdout",
     "output_type": "stream",
     "text": [
      "2\n"
     ]
    }
   ],
   "source": [
    "def count_substring_occurrences(string, substring):\n",
    "    count = 0\n",
    "    start = 0\n",
    "    while start < len(string):\n",
    "        index = string.find(substring, start)\n",
    "        if index != -1:\n",
    "            count += 1\n",
    "            start = index + 1\n",
    "        else:\n",
    "            break\n",
    "    return count\n",
    "\n",
    "print(count_substring_occurrences('her and herself', 'he'))\n",
    "\n",
    "\n"
   ]
  },
  {
   "cell_type": "markdown",
   "metadata": {},
   "source": [
    "## Week 10"
   ]
  },
  {
   "cell_type": "markdown",
   "metadata": {},
   "source": [
    "Benchmarking a single run"
   ]
  },
  {
   "cell_type": "code",
   "execution_count": 24,
   "metadata": {},
   "outputs": [
    {
     "name": "stdout",
     "output_type": "stream",
     "text": [
      " Function A starts the execution :\n",
      " Function A completes the execution :\n",
      "0.0008042003028094769\n"
     ]
    }
   ],
   "source": [
    "import timeit\n",
    "import time\n",
    "\n",
    "def functionA ():\n",
    "    print (\" Function A starts the execution :\")\n",
    "    print (\" Function A completes the execution :\")\n",
    "\n",
    "start_time = timeit.default_timer()\n",
    "functionA()\n",
    "print(timeit.default_timer()-start_time)"
   ]
  },
  {
   "cell_type": "markdown",
   "metadata": {},
   "source": [
    "Benchmarking multiple runs"
   ]
  },
  {
   "cell_type": "code",
   "execution_count": 25,
   "metadata": {},
   "outputs": [
    {
     "name": "stdout",
     "output_type": "stream",
     "text": [
      "[3.0575509001500905, 3.1581786000169814, 3.2363386997021735, 2.67139479983598, 3.04865700006485, 3.086697199847549, 3.1919850003905594]\n",
      "2.67139479983598\n"
     ]
    }
   ],
   "source": [
    "import timeit\n",
    "import time\n",
    "\n",
    "setup_code = '''\n",
    "import random\n",
    "\n",
    "random_list = [random.random() for i in range(10000)]\n",
    "\n",
    "'''\n",
    "\n",
    "t = timeit.Timer('copy=random_list[:]; copy.sort()', setup=setup_code)\n",
    "\n",
    "runs = t.repeat(7, 1000)\n",
    "\n",
    "print(runs)\n",
    "\n",
    "print(min(runs))"
   ]
  },
  {
   "cell_type": "code",
   "execution_count": 26,
   "metadata": {},
   "outputs": [
    {
     "name": "stdout",
     "output_type": "stream",
     "text": [
      " Function A starts the execution :\n",
      " Function A completes the execution :\n",
      " Function A starts the execution :\n",
      " Function A completes the execution :\n",
      " Function A starts the execution :\n",
      " Function A completes the execution :\n",
      " Function A starts the execution :\n",
      " Function A completes the execution :\n",
      " Function A starts the execution :\n",
      " Function A completes the execution :\n",
      " Function A starts the execution :\n",
      " Function A completes the execution :\n",
      " Function A starts the execution :\n",
      " Function A completes the execution :\n",
      " Function A starts the execution :\n",
      " Function A completes the execution :\n",
      " Function A starts the execution :\n",
      " Function A completes the execution :\n",
      " Function A starts the execution :\n",
      " Function A completes the execution :\n",
      "[0.00016079982742667198, 1.7900019884109497e-05, 1.950003206729889e-05, 1.4599878340959549e-05, 1.5399884432554245e-05, 1.9700266420841217e-05, 1.6800127923488617e-05, 1.619989052414894e-05, 1.4999881386756897e-05, 1.400010660290718e-05]\n"
     ]
    }
   ],
   "source": [
    "num_runs = 10\n",
    "results = []\n",
    "for i in range(num_runs):\n",
    "    start_time = timeit.default_timer()\n",
    "    functionA()\n",
    "    results.append(timeit.default_timer() - start_time)\n",
    "\n",
    "print(results)\n",
    "\n"
   ]
  },
  {
   "cell_type": "markdown",
   "metadata": {},
   "source": [
    "### Code runner"
   ]
  },
  {
   "cell_type": "markdown",
   "metadata": {},
   "source": [
    "Write a method to to take in a string and return a new string where all the duplicated adjacent characters have been removed. For example \"AAABBBBCCCDDDD\" would yield \"ABCD\". using recursion"
   ]
  },
  {
   "cell_type": "code",
   "execution_count": 27,
   "metadata": {},
   "outputs": [],
   "source": [
    "def duplicates(string):\n",
    "    if not string:\n",
    "        return \"\"\n",
    "    \n",
    "    if len(string) == 1:\n",
    "        return string\n",
    "        \n",
    "    if string[0] == string[1]:\n",
    "        return duplicates(string[1:])\n",
    "    else:\n",
    "        return string[0] + duplicates(string[1:])"
   ]
  },
  {
   "cell_type": "markdown",
   "metadata": {},
   "source": [
    "Write a method which takes in a string and returns the reverse of that string with a \"|\" character between each internal character. For example 'dominic' would become 'c|i|n|i|m|o|d\".\n",
    "\n",
    "This must be achieved through the use of recursion. The solutions will be checked for the use of recursion, and will be awarded 0 if there is no recursion."
   ]
  },
  {
   "cell_type": "code",
   "execution_count": 28,
   "metadata": {},
   "outputs": [],
   "source": [
    "def reverse(str):\n",
    "    if len(str) <= 1:\n",
    "        return str\n",
    "    else:\n",
    "        return str[-1] + '|' + reverse(str[:-1])"
   ]
  },
  {
   "cell_type": "markdown",
   "metadata": {},
   "source": [
    "Given a positive whole number write a method which returns true if the number contains the digit '1'. This should be done without transforming the number into a string.\n",
    "\n",
    "Note: use % to get the rightmost digit, and / to discard the rightmost digit."
   ]
  },
  {
   "cell_type": "code",
   "execution_count": 29,
   "metadata": {},
   "outputs": [],
   "source": [
    "def has_one(n):\n",
    "    if n % 10 == 1:\n",
    "        return True\n",
    "    elif n < 10:\n",
    "        return False\n",
    "    else:\n",
    "        return has_one(n // 10)"
   ]
  },
  {
   "cell_type": "markdown",
   "metadata": {},
   "source": [
    "Write a method which takes in a string and returns an array of each successive sub-string of length 3. For example \"We are in isolation\" would yield ['We ', 'are', ' in', ' is', 'ola', 'tio']. The part at the end which is not of length 3 is cut off (in this case the last character 'n').\n",
    "\n",
    "You must use recursion."
   ]
  },
  {
   "cell_type": "code",
   "execution_count": 30,
   "metadata": {},
   "outputs": [],
   "source": [
    "def substrings(string):\n",
    "    if len(string) <= 3:\n",
    "        return [string]\n",
    "    else:\n",
    "        return [string[i:i+3] for i in range(0, len(string)-2, 3)]"
   ]
  }
 ],
 "metadata": {
  "kernelspec": {
   "display_name": "Python 3",
   "language": "python",
   "name": "python3"
  },
  "language_info": {
   "codemirror_mode": {
    "name": "ipython",
    "version": 3
   },
   "file_extension": ".py",
   "mimetype": "text/x-python",
   "name": "python",
   "nbconvert_exporter": "python",
   "pygments_lexer": "ipython3",
   "version": "3.11.5"
  }
 },
 "nbformat": 4,
 "nbformat_minor": 2
}
