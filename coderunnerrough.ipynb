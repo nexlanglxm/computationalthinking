{
 "cells": [
  {
   "cell_type": "code",
   "execution_count": null,
   "metadata": {},
   "outputs": [],
   "source": [
    "def filter(listofNumbers):\n",
    "    greaterThan1000 = []\n",
    "    \n",
    "    for element in listofNumbers:\n",
    "        if element > 1000:\n",
    "            greaterThan1000.append(element)\n",
    "            \n",
    "    return greaterThan1000\n",
    "\n",
    "testArr = [1, 2, 500, 1001]\n",
    "\n",
    "print(filter(testArr))\n",
    "\n",
    "def merge(str1, str2):\n",
    "    combinedstr = ''\n",
    "    \n",
    "    for i in range(min(len(str1), len(str2))):\n",
    "        combinedstr += str1[i] + str2[i]\n",
    "    \n",
    "    if len(str1) > len(str2):\n",
    "        combinedstr += str1[len(str2):]\n",
    "    elif len(str2) > len(str1):\n",
    "        combinedstr += str2[len(str1):]\n",
    "    \n",
    "    return combinedstr\n",
    "\n",
    "print(merge('ni','el'), merge('agi', 'nlm'))\n",
    "\n",
    "def double_x(string):\n",
    "    for i in range(len(string)-1):\n",
    "        if string[i] == 'x' and string[i+1] == 'x':\n",
    "            return True\n",
    "    return False\n",
    "\n",
    "print(double_x('axxbb'))  # True\n",
    "print(double_x('axbxb'))  # False\n",
    "\n",
    "def Odd(arr):\n",
    "    ret = []\n",
    "    mid = len(arr) // 2\n",
    "    ret.append(arr[mid-1])\n",
    "    ret.append(arr[mid])\n",
    "    ret.append(arr[mid+1])\n",
    "    return ret\n",
    "\n",
    "arr = [1, 2, 3, 4, 5, 6, 7, 8, 9, 10, 11, 12, 13, 14, 15, 16, 17, 18, 19, 20]\n",
    "print(Odd(arr))\n",
    "\n",
    "def larger_first_last(arr):\n",
    "    if arr[0] > arr[2]:\n",
    "        arr[1] = arr[0]\n",
    "        arr[2] = arr[0]\n",
    "    else:\n",
    "        arr[0] = arr[2]\n",
    "        arr[1] = arr[2]\n",
    "    return arr\n",
    "\n",
    "arr = [3, 5, 2]\n",
    "print(larger_first_last(arr))\n",
    "\n",
    "def contains_2_or_3(arr):\n",
    "    if 2 in arr or 3 in arr:\n",
    "        return True\n",
    "    else:\n",
    "        return False\n",
    "\n",
    "arr = [1, 3]\n",
    "print(contains_2_or_3(arr))\n"
   ]
  },
  {
   "cell_type": "code",
   "execution_count": 3,
   "metadata": {},
   "outputs": [],
   "source": [
    "def in_trouble(cat_talking, time):\n",
    "    if not cat_talking:\n",
    "        return False\n",
    "    elif time < 6 or time > 21:\n",
    "        return True\n",
    "    else:\n",
    "        return False"
   ]
  },
  {
   "cell_type": "code",
   "execution_count": 4,
   "metadata": {},
   "outputs": [
    {
     "data": {
      "text/plain": [
       "False"
      ]
     },
     "execution_count": 4,
     "metadata": {},
     "output_type": "execute_result"
    }
   ],
   "source": [
    "in_trouble(False, 4)"
   ]
  },
  {
   "cell_type": "markdown",
   "metadata": {},
   "source": [
    "Given a number n, the factorial of n is the product of all positive integers less than or equal to n. The factorial of 4 is 4*3*2*1 = 24.\n",
    "\n",
    "Given a number as input calculate it's factorial and return the result. If n is divisible by 3 then return \"Fizz! the factorial is [insert num]\". If n is divisible by 5 then return \"Buzz! the factorial is [insert num]\"."
   ]
  },
  {
   "cell_type": "code",
   "execution_count": 13,
   "metadata": {},
   "outputs": [],
   "source": [
    "'''def factorial_buzz(number):\n",
    "    factorial = 1\n",
    "    for i in range(1, number+1):\n",
    "        factorial *= i\n",
    "    \n",
    "    result = factorial\n",
    "    \n",
    "    if number % 3 == 0:\n",
    "        return f\"Fizz! the factorial is {result}\"\n",
    "    elif number % 5 == 0:\n",
    "        return f\"Buzz! the factorial is {result}\"\n",
    "    else:\n",
    "        return result'''\n",
    "\n",
    "def factorial_buzz(number):\n",
    "    factorial = 1\n",
    "    for i in range(1, number+1):\n",
    "        factorial *= i\n",
    "        \n",
    "    message = \"\"\n",
    "    if number % 3 == 0:\n",
    "        message += \"Fizz!\"\n",
    "    if number % 5 == 0:\n",
    "        message += \"Buzz!\"\n",
    "        \n",
    "    return f\"{message} the factorial is {factorial}\" if message else factorial\n"
   ]
  },
  {
   "cell_type": "code",
   "execution_count": 15,
   "metadata": {},
   "outputs": [
    {
     "data": {
      "text/plain": [
       "40320"
      ]
     },
     "execution_count": 15,
     "metadata": {},
     "output_type": "execute_result"
    }
   ],
   "source": [
    "factorial_buzz(8)"
   ]
  },
  {
   "cell_type": "code",
   "execution_count": 16,
   "metadata": {},
   "outputs": [
    {
     "data": {
      "text/plain": [
       "'Fizz! the factorial is 362880'"
      ]
     },
     "execution_count": 16,
     "metadata": {},
     "output_type": "execute_result"
    }
   ],
   "source": [
    "factorial_buzz(9)"
   ]
  },
  {
   "cell_type": "markdown",
   "metadata": {},
   "source": [
    "We are having a party where there will be tea and biscuits. Return the string outcome of the party from the following options: bad, good, great.\n",
    "\n",
    "A party is good if both tea and biscuits are at least 5. However, if either tea or biscuits is at least double the amount of the other one, the party is great. However, in all cases, if either tea or biscuits are less than 5, the party is always bad."
   ]
  },
  {
   "cell_type": "code",
   "execution_count": 35,
   "metadata": {},
   "outputs": [],
   "source": [
    "def party(tea, candy):\n",
    "    if tea < 5 or candy < 5:\n",
    "        return \"bad\"\n",
    "    elif abs(tea - candy) >= 4:\n",
    "        return \"great\"\n",
    "    else:\n",
    "        return \"good\""
   ]
  },
  {
   "cell_type": "code",
   "execution_count": 38,
   "metadata": {},
   "outputs": [
    {
     "data": {
      "text/plain": [
       "'bad'"
      ]
     },
     "execution_count": 38,
     "metadata": {},
     "output_type": "execute_result"
    }
   ],
   "source": [
    "party(10, 4)"
   ]
  },
  {
   "cell_type": "code",
   "execution_count": null,
   "metadata": {},
   "outputs": [],
   "source": []
  }
 ],
 "metadata": {
  "kernelspec": {
   "display_name": "base",
   "language": "python",
   "name": "python3"
  },
  "language_info": {
   "codemirror_mode": {
    "name": "ipython",
    "version": 3
   },
   "file_extension": ".py",
   "mimetype": "text/x-python",
   "name": "python",
   "nbconvert_exporter": "python",
   "pygments_lexer": "ipython3",
   "version": "3.11.5"
  }
 },
 "nbformat": 4,
 "nbformat_minor": 2
}
